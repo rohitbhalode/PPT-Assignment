{
 "cells": [
  {
   "cell_type": "markdown",
   "id": "77fe9166",
   "metadata": {},
   "source": [
    "# DSA Assignment 4\n"
   ]
  },
  {
   "cell_type": "markdown",
   "id": "ccd04bb7",
   "metadata": {},
   "source": [
    " **Question 1**\n",
    "Given three integer arrays arr1, arr2 and arr3 **sorted** in **strictly increasing** order, return a sorted array of **only** the integers that appeared in **all** three arrays.\n",
    "\n",
    "**Example 1:**\n",
    "\n",
    "Input: arr1 = [1,2,3,4,5], arr2 = [1,2,5,7,9], arr3 = [1,3,4,5,8]\n",
    "\n",
    "Output: [1,5]\n",
    "\n",
    "**Explanation:** Only 1 and 5 appeared in the three arrays.\n"
   ]
  },
  {
   "cell_type": "code",
   "execution_count": 4,
   "id": "fef3551e",
   "metadata": {},
   "outputs": [
    {
     "name": "stdout",
     "output_type": "stream",
     "text": [
      "[1, 5]\n"
     ]
    }
   ],
   "source": [
    "def arraysIntersection(arr1,arr2,arr3):\n",
    "        def find(arr, val):\n",
    "            left, right = 0, len(arr) - 1\n",
    "            while left < right:\n",
    "                mid = (left + right) >> 1\n",
    "                if arr[mid] >= val:\n",
    "                    right = mid\n",
    "                else:\n",
    "                    left = mid + 1\n",
    "            return arr[left] == val\n",
    "\n",
    "        res = []\n",
    "        for num in arr1:\n",
    "            if find(arr2, num) and find(arr3, num):\n",
    "                res.append(num)\n",
    "        return res\n",
    "#driver code\n",
    "arr1 = [1,2,3,4,5]\n",
    "arr2 = [1,2,5,7,9]\n",
    "arr3 = [1,3,4,5,8]\n",
    "print(arraysIntersection(arr1,arr2,arr3))"
   ]
  },
  {
   "cell_type": "markdown",
   "id": "b8ff9a96",
   "metadata": {},
   "source": [
    "**Question 2**\n",
    "\n",
    "Given two **0-indexed** integer arrays nums1 and nums2, return *a list* answer *of size* 2 *where:*\n",
    "\n",
    "- answer[0] *is a list of all **distinct** integers in* nums1 *which are **not** present in* nums2*.*\n",
    "- answer[1] *is a list of all **distinct** integers in* nums2 *which are **not** present in* nums1.\n",
    "\n",
    "**Note** that the integers in the lists may be returned in **any** order.\n",
    "\n",
    "**Example 1:**\n",
    "\n",
    "**Input:** nums1 = [1,2,3], nums2 = [2,4,6]\n",
    "\n",
    "**Output:** [[1,3],[4,6]]\n",
    "**Explanation:**\n",
    "\n",
    "For nums1, nums1[1] = 2 is present at index 0 of nums2, whereas nums1[0] = 1 and nums1[2] = 3 are not present in nums2. Therefore, answer[0] = [1,3].\n",
    "\n",
    "For nums2, nums2[0] = 2 is present at index 1 of nums1, whereas nums2[1] = 4 and nums2[2] = 6 are not present in nums2. Therefore, answer[1] = [4,6]."
   ]
  },
  {
   "cell_type": "code",
   "execution_count": null,
   "id": "7de869c0",
   "metadata": {},
   "outputs": [],
   "source": [
    "def findDifference(self, nums1: List[int], nums2: List[int]) -> List[List[int]]:\n",
    "        answer=[[],[]]\n",
    "        for i in nums1:\n",
    "            if(i not in nums2):\n",
    "                answer[0].append(i)\n",
    "        for i in nums2:\n",
    "            if(i not in nums1):\n",
    "                answer[1].append(i)\n",
    "        answer[0]=list(set(answer[0]))\n",
    "        answer[1]=list(set(answer[1]))\n",
    "        return answer\n"
   ]
  },
  {
   "cell_type": "markdown",
   "id": "912e271b",
   "metadata": {},
   "source": [
    " **Question 3**\n",
    "Given a 2D integer array matrix, return *the **transpose** of* matrix.\n",
    "\n",
    "The **transpose** of a matrix is the matrix flipped over its main diagonal, switching the matrix's row and column indices.\n",
    "\n",
    "**Example 1:**\n",
    "\n",
    "Input: matrix = [[1,2,3],[4,5,6],[7,8,9]]\n",
    "\n",
    "Output: [[1,4,7],[2,5,8],[3,6,9]]\n"
   ]
  },
  {
   "cell_type": "code",
   "execution_count": 5,
   "id": "f5552d5f",
   "metadata": {},
   "outputs": [],
   "source": [
    "def transpose(matrix):\n",
    "    tmatrix=[]\n",
    "    l=len(matrix)\n",
    "    for i in range(len(matrix[0])):\n",
    "        newrows=[]\n",
    "        for j in range(l):\n",
    "             newrows.append(matrix[j][i])\n",
    "        tmatrix.append(newrows)\n",
    "\n",
    "    return tmatrix\n",
    "\n",
    "\n"
   ]
  },
  {
   "cell_type": "markdown",
   "id": "81ebaee0",
   "metadata": {},
   "source": [
    "**Question 4**\n",
    "Given an integer array nums of 2n integers, group these integers into n pairs (a1, b1), (a2, b2), ..., (an, bn) such that the sum of min(ai, bi) for all i is **maximized**. Return *the maximized sum*.\n",
    "\n",
    "**Example 1:**\n",
    "\n",
    "Input: nums = [1,4,3,2]\n",
    "\n",
    "Output: 4\n",
    "\n",
    "**Explanation:** All possible pairings (ignoring the ordering of elements) are:\n",
    "\n",
    "1. (1, 4), (2, 3) -> min(1, 4) + min(2, 3) = 1 + 2 = 3\n",
    "\n",
    "2. (1, 3), (2, 4) -> min(1, 3) + min(2, 4) = 1 + 2 = 3\n",
    "\n",
    "3. (1, 2), (3, 4) -> min(1, 2) + min(3, 4) = 1 + 3 = 4\n",
    "\n",
    "So the maximum possible sum is 4.\n"
   ]
  },
  {
   "cell_type": "code",
   "execution_count": 6,
   "id": "5a92e4cb",
   "metadata": {},
   "outputs": [],
   "source": [
    "def arrayPairSum(nums):\n",
    "    nums.sort()\n",
    "    sum=0\n",
    "    for i in range(0,len(nums),2):\n",
    "        sum+=nums[i]\n",
    "    return sum\n"
   ]
  },
  {
   "cell_type": "markdown",
   "id": "d3face2e",
   "metadata": {},
   "source": [
    "**Question 5**\n",
    "You have n coins and you want to build a staircase with these coins. The staircase consists of k rows where the ith row has exactly i coins. The last row of the staircase **may be** incomplete.\n",
    "\n",
    "Given the integer n, return *the number of **complete rows** of the staircase you will build*.\n",
    "\n",
    "**Example 1:**\n",
    "\n",
    "**Input:** n = 5\n",
    "\n",
    "**Output:** 2\n",
    "\n",
    "**Explanation:** Because the 3rd row is incomplete, we return 2."
   ]
  },
  {
   "cell_type": "code",
   "execution_count": null,
   "id": "c5005ea4",
   "metadata": {},
   "outputs": [],
   "source": [
    "def arrangeCoins(n):\n",
    "    count=0\n",
    "    i=0\n",
    "    while(n>=0):\n",
    "        i+=1\n",
    "        n-=i\n",
    "        count+=1\n",
    "    return count-1"
   ]
  },
  {
   "cell_type": "markdown",
   "id": "4268c45b",
   "metadata": {},
   "source": [
    "**Question 6**\n",
    "Given an integer array nums sorted in **non-decreasing** order, return *an array of **the squares of each number** sorted in non-decreasing order*.\n",
    "\n",
    "**Example 1:**\n",
    "\n",
    "Input: nums = [-4,-1,0,3,10]\n",
    "\n",
    "Output: [0,1,9,16,100]\n",
    "\n",
    "**Explanation:** After squaring, the array becomes [16,1,0,9,100].\n",
    "After sorting, it becomes [0,1,9,16,100]\n"
   ]
  },
  {
   "cell_type": "code",
   "execution_count": 7,
   "id": "ebce420e",
   "metadata": {},
   "outputs": [],
   "source": [
    "def sortedSquares(nums):\n",
    "    pindex=len(nums)\n",
    "    for i in range(len(nums)): \n",
    "        if(nums[i]>=0):\n",
    "            pindex=i\n",
    "            break\n",
    "    lpointer=pindex-1\n",
    "    answer=[]\n",
    "    while(pindex<len(nums) and lpointer>=0):\n",
    "        print(pindex,lpointer)\n",
    "        if(nums[pindex]<abs(nums[lpointer])):\n",
    "            answer.append(nums[pindex]**2)\n",
    "            pindex+=1\n",
    "        else:\n",
    "            answer.append(nums[lpointer]**2)\n",
    "            lpointer-=1\n",
    "    for i in range(pindex,len(nums)):\n",
    "        answer.append(nums[i]**2)\n",
    "    for i in range(lpointer,-1,-1):\n",
    "        answer.append(nums[i]**2)\n",
    "    return answer\n",
    "\n"
   ]
  },
  {
   "cell_type": "markdown",
   "id": "85528368",
   "metadata": {},
   "source": [
    "**Question 7**\n",
    "You are given an m x n matrix M initialized with all 0's and an array of operations ops, where ops[i] = [ai, bi] means M[x][y] should be incremented by one for all 0 <= x < ai and 0 <= y < bi.\n",
    "\n",
    "Count and return *the number of maximum integers in the matrix after performing all the operations*\n",
    "\n",
    "**Example 1:**\n",
    "\n",
    "**Input:** m = 3, n = 3, ops = [[2,2],[3,3]]\n",
    "\n",
    "**Output:** 4\n",
    "\n",
    "**Explanation:** The maximum integer in M is 2, and there are four of it in M. So return 4."
   ]
  },
  {
   "cell_type": "code",
   "execution_count": 9,
   "id": "431bdda7",
   "metadata": {},
   "outputs": [],
   "source": [
    "def maxCount(m,n,ops):\n",
    "    length = len(ops)\n",
    "    if length == 0:\n",
    "        return m*n\n",
    "    result = [ops[0][0] , ops[0][1]]\n",
    "    for i in range(1,length):\n",
    "        result[0] = min(result[0] , ops[i][0])\n",
    "        result[1] = min(result[1] , ops[i][1])\n",
    "    return result[0]*result[1]"
   ]
  },
  {
   "cell_type": "markdown",
   "id": "5181e72f",
   "metadata": {},
   "source": [
    "**Question 8**\n",
    "\n",
    "Given the array nums consisting of 2n elements in the form [x1,x2,...,xn,y1,y2,...,yn].\n",
    "\n",
    "*Return the array in the form* [x1,y1,x2,y2,...,xn,yn].\n",
    "\n",
    "**Example 1:**\n",
    "\n",
    "**Input:** nums = [2,5,1,3,4,7], n = 3\n",
    "\n",
    "**Output:** [2,3,5,4,1,7]\n",
    "\n",
    "**Explanation:** Since x1=2, x2=5, x3=1, y1=3, y2=4, y3=7 then the answer is [2,3,5,4,1,7].\n",
    "\n"
   ]
  },
  {
   "cell_type": "code",
   "execution_count": 8,
   "id": "e97d805c",
   "metadata": {},
   "outputs": [],
   "source": [
    "def shuffle(nums,n):\n",
    "    answer=[]\n",
    "    l=len(nums)//2\n",
    "    for i in range(l):\n",
    "        answer.append(nums[i])\n",
    "        answer.append(nums[i+n])\n",
    "    return answer    "
   ]
  }
 ],
 "metadata": {
  "kernelspec": {
   "display_name": "Python 3 (ipykernel)",
   "language": "python",
   "name": "python3"
  },
  "language_info": {
   "codemirror_mode": {
    "name": "ipython",
    "version": 3
   },
   "file_extension": ".py",
   "mimetype": "text/x-python",
   "name": "python",
   "nbconvert_exporter": "python",
   "pygments_lexer": "ipython3",
   "version": "3.10.9"
  }
 },
 "nbformat": 4,
 "nbformat_minor": 5
}
