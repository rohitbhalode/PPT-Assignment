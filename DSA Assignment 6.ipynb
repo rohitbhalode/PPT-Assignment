{
 "cells": [
  {
   "cell_type": "markdown",
   "id": "a2e274db",
   "metadata": {},
   "source": [
    "# DSA Assignment 6"
   ]
  },
  {
   "cell_type": "markdown",
   "id": "a7deb65b",
   "metadata": {},
   "source": [
    "**Question 1**\n",
    "\n",
    "A permutation perm of n + 1 integers of all the integers in the range [0, n] can be represented as a string s of length n where:\n",
    "\n",
    "- s[i] == 'I' if perm[i] < perm[i + 1], and\n",
    "- s[i] == 'D' if perm[i] > perm[i + 1].\n",
    "\n",
    "Given a string s, reconstruct the permutation perm and return it. If there are multiple valid permutations perm, return **any of them**.\n",
    "\n",
    "**Example 1:**\n",
    "\n",
    "**Input:** s = \"IDID\"\n",
    "\n",
    "**Output:**\n",
    "\n",
    "[0,4,1,3,2]\n",
    "\n"
   ]
  },
  {
   "cell_type": "code",
   "execution_count": null,
   "id": "fc2046d3",
   "metadata": {},
   "outputs": [],
   "source": [
    "def diStringMatch(s):\n",
    "    i=0\n",
    "    n=len(s)\n",
    "    ans=[]\n",
    "    for j in s:\n",
    "        if(j=='I'):\n",
    "            ans.append(i)\n",
    "            i+=1\n",
    "        else:\n",
    "            ans.append(n)\n",
    "            n-=1\n",
    "    ans.append(n)\n",
    "    return ans\n"
   ]
  },
  {
   "cell_type": "markdown",
   "id": "5eb10f2a",
   "metadata": {},
   "source": [
    "**Question 2**\n",
    "\n",
    "You are given an m x n integer matrix matrix with the following two properties:\n",
    "\n",
    "- Each row is sorted in non-decreasing order.\n",
    "- The first integer of each row is greater than the last integer of the previous row.\n",
    "\n",
    "Given an integer target, return true *if* target *is in* matrix *or* false *otherwise*.\n",
    "\n",
    "You must write a solution in O(log(m * n)) time complexity.\n",
    "\n",
    "**Example 1:**\n",
    "\n",
    "**Input:** matrix = [[1,3,5,7],[10,11,16,20],[23,30,34,60]], target = 3\n",
    "\n",
    "**Output:** true"
   ]
  },
  {
   "cell_type": "code",
   "execution_count": null,
   "id": "049bd1f5",
   "metadata": {},
   "outputs": [],
   "source": [
    "def searchMatrix(matrix,target):\n",
    "\n",
    "    if not matrix or not matrix[0]: return False\n",
    "    m, n = len(matrix[0]), len(matrix)\n",
    "    beg, end = 0, m*n - 1\n",
    "    while beg < end:\n",
    "        mid = (beg + end)//2\n",
    "        if matrix[mid//m][mid%m] < target:\n",
    "            beg = mid + 1\n",
    "        else:\n",
    "            end = mid\n",
    "    return matrix[beg//m][beg%m] == target"
   ]
  },
  {
   "cell_type": "markdown",
   "id": "25e73ef0",
   "metadata": {},
   "source": [
    " **Question 3**\n",
    "\n",
    "Given an array of integers arr, return *true if and only if it is a valid mountain array*.\n",
    "\n",
    "Recall that arr is a mountain array if and only if:\n",
    "\n",
    "- arr.length >= 3\n",
    "- There exists some i with 0 < i < arr.length - 1 such that:\n",
    "    - arr[0] < arr[1] < ... < arr[i - 1] < arr[i]\n",
    "    - arr[i] > arr[i + 1] > ... > arr[arr.length - 1]\n",
    "*Example 1:**\n",
    "\n",
    "**Input:** arr = [2,1]\n",
    "\n",
    "**Output:**\n",
    "\n",
    "false"
   ]
  },
  {
   "cell_type": "code",
   "execution_count": null,
   "id": "1df38cc0",
   "metadata": {},
   "outputs": [],
   "source": [
    "def validMountainArray(A):\n",
    "    if(len(A)<3):\n",
    "     return False\n",
    "    i = 1\n",
    "    while(i<len(A) and A[i]>A[i-1]):\n",
    "        i+=1\n",
    "    if(i==1 or i==len(A)):\n",
    "        return False\n",
    "    while(i<len(A) and A[i]<A[i-1]):\n",
    "        i+=1\n",
    "    return i==len(A)"
   ]
  },
  {
   "cell_type": "markdown",
   "id": "718f24fd",
   "metadata": {},
   "source": [
    "**Question 4**\n",
    "\n",
    "Given a binary array nums, return *the maximum length of a contiguous subarray with an equal number of* 0 *and* 1.\n",
    "\n",
    "**Example 1:**\n",
    "\n",
    "**Input:** nums = [0,1]\n",
    "\n",
    "**Output:** 2\n",
    "\n",
    "**Explanation:**\n",
    "\n",
    "[0, 1] is the longest contiguous subarray with an equal number of 0 and 1.\n"
   ]
  },
  {
   "cell_type": "code",
   "execution_count": null,
   "id": "3a3f3651",
   "metadata": {},
   "outputs": [],
   "source": [
    "def findMaxLength(nums):\n",
    "    maps={0:-1}\n",
    "    cumSum=maxSoFar=0\n",
    "    for i,num in enumerate(nums):\n",
    "        print(maps)\n",
    "        print(i,num)\n",
    "        if num==1:\n",
    "            cumSum+=1\n",
    "        else:\n",
    "            cumSum-=1\n",
    "        if cumSum in maps:\n",
    "            maxSoFar=max(maxSoFar,i-maps[cumSum])\n",
    "        else:\n",
    "            maps[cumSum] = i\n",
    "    return maxSoFar\n",
    "\n",
    "\n"
   ]
  },
  {
   "cell_type": "markdown",
   "id": "478f5b40",
   "metadata": {},
   "source": [
    "**Question 5**\n",
    "\n",
    "The **product sum** of two equal-length arrays a and b is equal to the sum of a[i] * b[i] for all 0 <= i < a.length (**0-indexed**).\n",
    "\n",
    "- For example, if a = [1,2,3,4] and b = [5,2,3,1], the **product sum** would be 1*5 + 2*2 + 3*3 + 4*1 = 22.\n",
    "\n",
    "Given two arrays nums1 and nums2 of length n, return *the **minimum product sum** if you are allowed to **rearrange** the **order** of the elements in* nums1.\n",
    "\n",
    "**Example 1:**\n",
    "\n",
    "**Input:** nums1 = [5,3,4,2], nums2 = [4,2,2,5]\n",
    "\n",
    "**Output:** 40\n",
    "\n",
    "**Explanation:**\n",
    "\n",
    "We can rearrange nums1 to become [3,5,4,2]. The product sum of [3,5,4,2] and [4,2,2,5] is 3*4 + 5*2 + 4*2 + 2*5 = 40.\n",
    "\n"
   ]
  },
  {
   "cell_type": "code",
   "execution_count": null,
   "id": "09d71362",
   "metadata": {},
   "outputs": [],
   "source": [
    "def minProductSum(nums1,nums2):\n",
    "    nums1.sort()\n",
    "    nums2.sort()\n",
    "    n,res =len(nums1),\n",
    "    for i in range(n):\n",
    "        res+=nums1[i]*nums2[n-i-1]\n",
    "    return res"
   ]
  },
  {
   "cell_type": "markdown",
   "id": "35a2ee5f",
   "metadata": {},
   "source": [
    "**Question 6**\n",
    "\n",
    "An integer array original is transformed into a **doubled** array changed by appending **twice the value** of every element in original, and then randomly **shuffling** the resulting array.\n",
    "\n",
    "Given an array changed, return original *if* changed *is a **doubled** array. If* changed *is not a **doubled** array, return an empty array. The elements in* original *may be returned in **any** order*.\n",
    "\n",
    "**Example 1:**\n",
    "\n",
    "**Input:** changed = [1,3,4,2,6,8]\n",
    "\n",
    "**Output:** [1,3,4]\n",
    "\n",
    "**Explanation:** One possible original array could be [1,3,4]:\n",
    "\n",
    "- Twice the value of 1 is 1 * 2 = 2.\n",
    "- Twice the value of 3 is 3 * 2 = 6.\n",
    "- Twice the value of 4 is 4 * 2 = 8.\n",
    "\n",
    "Other original arrays could be [4,3,1] or [3,1,4].\n"
   ]
  },
  {
   "cell_type": "code",
   "execution_count": null,
   "id": "73c829ce",
   "metadata": {},
   "outputs": [],
   "source": [
    "def findOriginalArray(changed):\n",
    "    freq = collections.Counter(changed)\n",
    "    changed.sort()\n",
    "    original = []\n",
    "    for v in changed:\n",
    "        if freq[v]:\n",
    "            freq[v] -= 1\n",
    "            twice = v * 2\n",
    "            if twice in freq and freq[twice] > 0:\n",
    "                freq[twice] -= 1\n",
    "                original.append(v)\n",
    "            else:\n",
    "                return []\n",
    "    return original\n"
   ]
  },
  {
   "cell_type": "markdown",
   "id": "3054ae27",
   "metadata": {},
   "source": [
    " **Question 7**\n",
    "\n",
    "Given a positive integer n, generate an n x n matrix filled with elements from 1 to n2 in spiral order.\n",
    "\n",
    "**Example 1:**\n",
    "\n",
    "**Input:** n = 3\n",
    "\n",
    "**Output:** [[1,2,3],[8,9,4],[7,6,5]]\n",
    "\n"
   ]
  },
  {
   "cell_type": "code",
   "execution_count": null,
   "id": "8d7c91af",
   "metadata": {},
   "outputs": [],
   "source": [
    "def generateMatrix(n):\n",
    "\n",
    "    matrix = []\n",
    "    total = n*n\n",
    "    for i in range(1,total+1):\n",
    "        matrix.append(i)\n",
    "    result = [[None]*n for _ in range(n)]\n",
    "\n",
    "    for d in range(n-1):\n",
    "        for i in range(d, n-d-1):\n",
    "            result[d][i]=matrix.pop(0)\n",
    "        for i in range(d, n-d-1):\n",
    "            result[i][n-d-1]=matrix.pop(0)\n",
    "        for i in range(n-d-1,d,-1):\n",
    "            result[n-d-1][i]=matrix.pop(0)\n",
    "        for i in range(n-d-1,d,-1):\n",
    "            result[i][d]=matrix.pop(0)\n",
    "    if n%2:\n",
    "        x= (n-1)//2\n",
    "        result[x][x]=matrix.pop()\n",
    "    return result"
   ]
  },
  {
   "cell_type": "markdown",
   "id": "3ff3a8ca",
   "metadata": {},
   "source": [
    "**Question 8**\n",
    "\n",
    "Given two [sparse matrices](https://en.wikipedia.org/wiki/Sparse_matrix) mat1 of size m x k and mat2 of size k x n, return the result of mat1 x mat2. You may assume that multiplication is always possible.\n",
    "\n",
    "**Example 1:**\n",
    "**Input:** mat1 = [[1,0,0],[-1,0,3]], mat2 = [[7,0,0],[0,0,0],[0,0,1]]\n",
    "\n",
    "**Output:**\n",
    "\n",
    "[[7,0,0],[-7,0,3]]\n"
   ]
  },
  {
   "cell_type": "code",
   "execution_count": 1,
   "id": "1dd54d94",
   "metadata": {},
   "outputs": [],
   "source": [
    "def multiply(mat1, mat2):\n",
    "    m = len(mat1)\n",
    "    n = len(mat2)\n",
    "    l = len(mat2[0])\n",
    "    ans = [[0] * l for _ in range(m)]\n",
    "\n",
    "    for i in range(m):\n",
    "      for j in range(l):\n",
    "        for k in range(n):\n",
    "          ans[i][j] += mat1[i][k] * mat2[k][j]\n",
    "\n",
    "    return ans"
   ]
  },
  {
   "cell_type": "code",
   "execution_count": 3,
   "id": "8d9b242c",
   "metadata": {},
   "outputs": [
    {
     "data": {
      "text/plain": [
       "[[7, 0, 0], [-7, 0, 3]]"
      ]
     },
     "execution_count": 3,
     "metadata": {},
     "output_type": "execute_result"
    }
   ],
   "source": [
    "mat1 = [[1,0,0],[-1,0,3]]\n",
    "mat2 = [[7,0,0],[0,0,0],[0,0,1]]\n",
    "multiply(mat1, mat2)"
   ]
  }
 ],
 "metadata": {
  "kernelspec": {
   "display_name": "Python 3 (ipykernel)",
   "language": "python",
   "name": "python3"
  },
  "language_info": {
   "codemirror_mode": {
    "name": "ipython",
    "version": 3
   },
   "file_extension": ".py",
   "mimetype": "text/x-python",
   "name": "python",
   "nbconvert_exporter": "python",
   "pygments_lexer": "ipython3",
   "version": "3.10.9"
  }
 },
 "nbformat": 4,
 "nbformat_minor": 5
}
